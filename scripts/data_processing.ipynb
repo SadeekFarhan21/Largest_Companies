{
 "cells": [
  {
   "cell_type": "code",
   "execution_count": 54,
   "metadata": {},
   "outputs": [],
   "source": [
    "#importing the libraries\n",
    "import pandas as pd"
   ]
  },
  {
   "cell_type": "code",
   "execution_count": 55,
   "metadata": {},
   "outputs": [],
   "source": [
    "finance = pd.read_csv('../data/biggest_companies.csv')"
   ]
  },
  {
   "cell_type": "code",
   "execution_count": 56,
   "metadata": {
    "vscode": {
     "languageId": "ruby"
    }
   },
   "outputs": [
    {
     "name": "stdout",
     "output_type": "stream",
     "text": [
      "     Revenue 2018  Revenue 2019  Revenue 2020  Net Income 2018  \\\n",
      "0    2.329000e+11  2.805000e+11  3.861000e+11     2.130000e+10   \n",
      "1    2.656000e+11  2.602000e+11  2.745000e+11     5.950000e+10   \n",
      "2    1.368000e+11  1.619000e+11  1.823000e+11     3.070000e+10   \n",
      "3    1.104000e+11  1.309000e+11  1.430000e+11     1.660000e+10   \n",
      "4    3.990000e+10  5.610000e+10  7.020000e+10     1.290000e+10   \n",
      "..            ...           ...           ...              ...   \n",
      "269  9.400000e+09  9.400000e+09  9.400000e+09     1.770000e+09   \n",
      "270  1.720000e+10  1.720000e+10  1.720000e+10     1.400000e+09   \n",
      "271  7.500000e+09  7.500000e+09  7.500000e+09     5.960000e+08   \n",
      "272  9.800000e+09  9.800000e+09  9.800000e+09     1.130000e+09   \n",
      "273  1.500000e+09  1.500000e+09  1.500000e+09     2.800000e+08   \n",
      "\n",
      "     Net Income 2019  Net Income 2020  \n",
      "0       2.130000e+10     2.130000e+10  \n",
      "1       5.520000e+10     1.114000e+11  \n",
      "2       3.430000e+10     4.620000e+10  \n",
      "3       4.430000e+10     5.300000e+10  \n",
      "4       1.490000e+10     1.190000e+10  \n",
      "..               ...              ...  \n",
      "269     1.770000e+09     1.770000e+09  \n",
      "270     1.400000e+09     1.400000e+09  \n",
      "271     5.960000e+08     5.960000e+08  \n",
      "272     1.130000e+09     1.130000e+09  \n",
      "273     2.800000e+08     2.800000e+08  \n",
      "\n",
      "[274 rows x 6 columns]\n"
     ]
    }
   ],
   "source": [
    "# Convert columns to strings, remove '$', 'billion', and 'million', and convert to float\n",
    "finance['Revenue 2018'] = finance['Revenue 2018'].astype(str).str.replace('$', '').str.replace(' billion', 'e9').str.replace(' million', 'e6').astype(float)\n",
    "finance['Revenue 2019'] = finance['Revenue 2019'].astype(str).str.replace('$', '').str.replace(' billion', 'e9').str.replace(' million', 'e6').astype(float)\n",
    "finance['Revenue 2020'] = finance['Revenue 2020'].astype(str).str.replace('$', '').str.replace(' billion', 'e9').str.replace(' million', 'e6').astype(float)\n",
    "\n",
    "finance['Net Income 2018'] = finance['Net Income 2018'].astype(str).str.replace('$', '').str.replace(' billion', 'e9').str.replace(' million', 'e6').astype(float)\n",
    "finance['Net Income 2019'] = finance['Net Income 2019'].astype(str).str.replace('$', '').str.replace(' billion', 'e9').str.replace(' million', 'e6').astype(float)\n",
    "finance['Net Income 2020'] = finance['Net Income 2020'].astype(str).str.replace('$', '').str.replace(' billion', 'e9').str.replace(' million', 'e6').astype(float)\n",
    "\n",
    "print(finance[['Revenue 2018', 'Revenue 2019', 'Revenue 2020', 'Net Income 2018', 'Net Income 2019', 'Net Income 2020']])\n",
    "\n",
    "finance.to_csv('../data/biggest_companies_cleaned.csv', index=False)"
   ]
  },
  {
   "cell_type": "code",
   "execution_count": 57,
   "metadata": {
    "vscode": {
     "languageId": "ruby"
    }
   },
   "outputs": [],
   "source": [
    "founder = pd.read_csv('../data/biggest_companies_noe_nof.csv')"
   ]
  },
  {
   "cell_type": "code",
   "execution_count": 58,
   "metadata": {},
   "outputs": [
    {
     "name": "stdout",
     "output_type": "stream",
     "text": [
      "         Company Name Country Founded Year Founded  Revenue 2018  \\\n",
      "0              Amazon   United States         1994  2.329000e+11   \n",
      "1               Apple   United States         1976  2.656000e+11   \n",
      "2              Google   United States         1998  1.368000e+11   \n",
      "3           Microsoft   United States         1975  1.104000e+11   \n",
      "4             Alibaba           China         1999  3.990000e+10   \n",
      "..                ...             ...          ...           ...   \n",
      "244             Nokia         Finland         1865  2.327000e+10   \n",
      "245            Fortum         Finland         1998  9.930000e+09   \n",
      "246        Stora Enso         Finland         1998  1.038000e+10   \n",
      "247  Reykjavik Energy         Iceland         1913  9.570000e+08   \n",
      "248   Bombardier Inc.          Canada         1942  1.591000e+10   \n",
      "\n",
      "     Revenue 2019  Revenue 2020  Net Income 2018  Net Income 2019  \\\n",
      "0    2.805000e+11  3.861000e+11     2.130000e+10     2.130000e+10   \n",
      "1    2.602000e+11  2.745000e+11     5.950000e+10     5.520000e+10   \n",
      "2    1.619000e+11  1.823000e+11     3.070000e+10     3.430000e+10   \n",
      "3    1.309000e+11  1.430000e+11     1.660000e+10     4.430000e+10   \n",
      "4    5.610000e+10  7.020000e+10     1.290000e+10     1.490000e+10   \n",
      "..            ...           ...              ...              ...   \n",
      "244  2.322000e+10  2.245000e+10     2.910000e+09     2.730000e+09   \n",
      "245  1.044000e+10  1.074000e+10     1.420000e+09     1.580000e+09   \n",
      "246  1.075000e+10  1.054000e+10     1.260000e+09     1.330000e+09   \n",
      "247  9.770000e+08  1.020000e+09     7.300000e+07     7.200000e+07   \n",
      "248  1.642000e+10  1.603000e+10    -1.580000e+09    -1.390000e+09   \n",
      "\n",
      "     Net Income 2020            Industry Number of Employees  \\\n",
      "0       2.130000e+10              Retail             800,000   \n",
      "1       1.114000e+11          Technology             137,000   \n",
      "2       4.620000e+10          Technology             118,899   \n",
      "3       5.300000e+10          Technology             151,000   \n",
      "4       1.190000e+10              Retail             104,000   \n",
      "..               ...                 ...                 ...   \n",
      "244     1.790000e+09  Telecommunications             103,000   \n",
      "245     1.350000e+09              Energy               8,300   \n",
      "246     1.070000e+09    Paper, Packaging              26,000   \n",
      "247     8.900000e+07              Energy               1,100   \n",
      "248    -1.560000e+09      Transportation              73,000   \n",
      "\n",
      "                                  Founder  \n",
      "0                              Jeff Bezos  \n",
      "1                              Steve Jobs  \n",
      "2                              Larry Page  \n",
      "3                              Bill Gates  \n",
      "4                                 Jack Ma  \n",
      "..                                    ...  \n",
      "244                       Fredrik Idestam  \n",
      "245                 Government of Finland  \n",
      "246                          Hans Gutzeit  \n",
      "247  David Anderson, Margret Bjarnadottir  \n",
      "248              Joseph-Armand Bombardier  \n",
      "\n",
      "[249 rows x 12 columns]\n"
     ]
    }
   ],
   "source": [
    "# Ensure the 'finance' and 'founder' dataframes are defined before this cell\n",
    "df = pd.merge(finance, founder, on='Company Name', how='inner') # type: ignore\n",
    "print(df)"
   ]
  },
  {
   "cell_type": "code",
   "execution_count": 59,
   "metadata": {
    "vscode": {
     "languageId": "ruby"
    }
   },
   "outputs": [],
   "source": [
    "df.to_csv('../data/biggest_companies_cleaned.csv', index=False)"
   ]
  }
 ],
 "metadata": {
  "kernelspec": {
   "display_name": "Python 3",
   "language": "python",
   "name": "python3"
  },
  "language_info": {
   "codemirror_mode": {
    "name": "ipython",
    "version": 3
   },
   "file_extension": ".py",
   "mimetype": "text/x-python",
   "name": "python",
   "nbconvert_exporter": "python",
   "pygments_lexer": "ipython3",
   "version": "3.11.7"
  }
 },
 "nbformat": 4,
 "nbformat_minor": 2
}
